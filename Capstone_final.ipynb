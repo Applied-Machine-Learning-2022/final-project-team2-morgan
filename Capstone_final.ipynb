{
  "nbformat": 4,
  "nbformat_minor": 0,
  "metadata": {
    "colab": {
      "name": "Capstone_final.ipynb",
      "provenance": [],
      "collapsed_sections": [],
      "toc_visible": true
    },
    "kernelspec": {
      "name": "python3",
      "display_name": "Python 3"
    },
    "language_info": {
      "name": "python"
    }
  },
  "cells": [
    {
      "cell_type": "code",
      "execution_count": 1,
      "metadata": {
        "id": "1-P_KRc1ktOO"
      },
      "outputs": [],
      "source": [
        "# Letter Classification \n",
        "# \n",
        "#\n",
        "#\n",
        "#\n",
        "#"
      ]
    },
    {
      "cell_type": "markdown",
      "source": [
        "# Binary Image Classification\n",
        "Data! Great, well, what kind of data?\n"
      ],
      "metadata": {
        "id": "6aF1_5C2rNwX"
      }
    },
    {
      "cell_type": "code",
      "source": [
        "import pandas as pd\n",
        "import numpy\n",
        "import numpy as np\n",
        "import matplotlib.pyplot as plt\n",
        "from sklearn.naive_bayes import MultinomialNB\n",
        "from sklearn.metrics import confusion_matrix\n",
        "import itertools\n",
        "from sklearn.metrics import precision_recall_fscore_support\n",
        "from sklearn.metrics import classification_report\n",
        "from sklearn.metrics import roc_curve, auc\n",
        "from sklearn.metrics import roc_auc_score\n",
        "from sklearn.svm import SVC\n",
        "from sklearn.model_selection import GridSearchCV\n",
        "from sklearn.naive_bayes import ComplementNB\n",
        "\n"
      ],
      "metadata": {
        "id": "AzSpkUd5reUv"
      },
      "execution_count": 2,
      "outputs": []
    },
    {
      "cell_type": "markdown",
      "source": [
        "# Data Visualization"
      ],
      "metadata": {
        "id": "sicFvyTQGNZg"
      }
    },
    {
      "cell_type": "code",
      "source": [
        "! unzip ocr_data.zip\n",
        "! ls\n",
        "\n",
        "ocr_test = pd.read_table('ocr10-test.txt', sep=',')\n",
        "ocr_train = pd.read_table('ocr10-train.txt', sep=',')\n",
        "\n",
        "#Brought the two .txt files into the playing field\n",
        "#No benchwarmers over here \n",
        "#5 rows x 129 col\n",
        "#Features are numbered from int '0' to remaining floats '0.111'\n",
        "#ie 0, 0.1, 0.2,...\n",
        "\n",
        "\n",
        "train_features = ocr_train.columns[:-1]\n",
        "test_features = ocr_test.columns[:-1]\n",
        "#because the last row is the target column\n",
        "#make it so\n",
        "\n",
        "train_target = ocr_train.columns[-1]\n",
        "test_target = ocr_test.columns[-1]\n",
        "\n",
        "#convert to numpy for visuals\n",
        "ocr_train_np=ocr_train[train_features].to_numpy()\n",
        "ocr_test_np=ocr_test[test_features].to_numpy()\n",
        "\n",
        "#toprint\n",
        " \n",
        "# reshape because the original images are 16x8\n",
        "letter = ocr_train_np[0,:].reshape(16,8)\n",
        "plt.imshow(letter)"
      ],
      "metadata": {
        "colab": {
          "base_uri": "https://localhost:8080/",
          "height": 354
        },
        "id": "tWJ7hnWpPh1S",
        "outputId": "0be53035-7813-4e11-b9f1-24c86f92e474"
      },
      "execution_count": 3,
      "outputs": [
        {
          "output_type": "stream",
          "name": "stdout",
          "text": [
            "Archive:  ocr_data.zip\n",
            "  inflating: ocr10-test.txt          \n",
            "  inflating: ocr10-train.txt         \n",
            "ocr10-test.txt\tocr10-train.txt  ocr_data.zip  sample_data\n"
          ]
        },
        {
          "output_type": "execute_result",
          "data": {
            "text/plain": [
              "<matplotlib.image.AxesImage at 0x7fce4539cc50>"
            ]
          },
          "metadata": {},
          "execution_count": 3
        },
        {
          "output_type": "display_data",
          "data": {
            "text/plain": [
              "<Figure size 432x288 with 1 Axes>"
            ],
            "image/png": "[encoded data removed]"
          },
          "metadata": {
            "needs_background": "light"
          }
        }
      ]
    },
    {
      "cell_type": "markdown",
      "source": [
        "# MultiNominal Naive Bayes Model"
      ],
      "metadata": {
        "id": "XDJiITomQext"
      }
    },
    {
      "cell_type": "code",
      "source": [
        "#lets train naive bayes model\n",
        "#MulitNominal Model\n",
        "from sklearn.naive_bayes import MultinomialNB\n",
        "\n",
        "# assign the training and test data to variables\n",
        "features = ocr_train[train_features]\n",
        "target = ocr_train[train_target]\n",
        "\n",
        "features_test = ocr_test[test_features]\n",
        "target_test=ocr_test[test_target]\n",
        "\n",
        "# fit the multinomial Naive Bayes model\n",
        "mnm = MultinomialNB(alpha=1.0, fit_prior=True)\n",
        "mnm.fit(features, target)\n",
        "\n",
        "# predict outcome for the test data\n",
        "prediction = mnm.predict(features_test)\n"
      ],
      "metadata": {
        "colab": {
          "base_uri": "https://localhost:8080/"
        },
        "id": "Q72_I91TQo_G",
        "outputId": "7d7f7811-975f-4f5b-aa9a-943f2568ef63"
      },
      "execution_count": 4,
      "outputs": [
        {
          "output_type": "stream",
          "name": "stderr",
          "text": [
            "/usr/local/lib/python3.7/dist-packages/sklearn/base.py:493: FutureWarning: The feature names should match those that were passed during fit. Starting version 1.2, an error will be raised.\n",
            "Feature names unseen at fit time:\n",
            "- 1.17\n",
            "- 1.18\n",
            "- 1.19\n",
            "Feature names seen at fit time, yet now missing:\n",
            "- 0.108\n",
            "- 0.109\n",
            "- 0.110\n",
            "\n",
            "  warnings.warn(message, FutureWarning)\n"
          ]
        }
      ]
    },
    {
      "cell_type": "markdown",
      "source": [
        "# Confusion Matrix"
      ],
      "metadata": {
        "id": "-iuwot4uRIpC"
      }
    },
    {
      "cell_type": "code",
      "source": [
        "\n",
        "t_features=ocr_test[test_features]\n",
        "t_target = ocr_test[test_target]\n",
        "t_target = t_target.to_numpy()\n",
        "\n",
        "\n",
        "cMatrix = confusion_matrix(t_target, prediction, labels=range(10))\n",
        "print(cMatrix)\n"
      ],
      "metadata": {
        "colab": {
          "base_uri": "https://localhost:8080/"
        },
        "id": "W5BUieiSRc7u",
        "outputId": "82677374-db81-42c9-9de1-dfae69448d6f"
      },
      "execution_count": 5,
      "outputs": [
        {
          "output_type": "stream",
          "name": "stdout",
          "text": [
            "[[1163    2   29   33   61    3   33   17    1    2]\n",
            " [  10  295    0   14   12    3    6   59   28    1]\n",
            " [ 129    7  450    6   91    5   15    1    1    0]\n",
            " [  54    6    4  334   16    2    7    2   40   16]\n",
            " [ 378   17  109    6 1025   69   46    2    0    0]\n",
            " [   9    4    8   13   29  202    2    8   32    0]\n",
            " [  70   17    4   76   40   18  567    6   26    0]\n",
            " [  11   46    1   12    4    0    3  185   25    0]\n",
            " [  15   21   12   90    6   70   20   35 1311   58]\n",
            " [   1    2    0    6    1    0    7    0   16   30]]\n"
          ]
        }
      ]
    },
    {
      "cell_type": "markdown",
      "source": [
        "# Display Confusion Matrix as an image "
      ],
      "metadata": {
        "id": "WYEKZvV2RoKV"
      }
    },
    {
      "cell_type": "markdown",
      "source": [
        "matplotlib.pyplot.imshow, the input may either be actual RGB(A) data, or 2D scalar data, which will be rendered as a pseudocolor image."
      ],
      "metadata": {
        "id": "pmO_DjR3SFbg"
      }
    },
    {
      "cell_type": "code",
      "source": [
        "classes = ['a','b','c','d','e','f','g','h','i','j']\n",
        "\n",
        "plt.figure(figsize=(10,10))\n",
        "\n",
        "plt.imshow(cMatrix, interpolation='nearest', cmap=plt.cm.Blues_r)\n",
        "plt.title('Confusion Matrix - Letter Classification')\n",
        "plt.colorbar()\n",
        "plt.xticks(range(10),classes)\n",
        "plt.yticks(range(10),classes)\n",
        "\n",
        "for k,v in itertools.product(range(cMatrix.shape[0]),range(cMatrix.shape[1])):\n",
        "  plt.text(v, k, cMatrix[k,v],horizontalalignment=\"center\",color=\"white\" if cMatrix[k,v]>800 else \"black\")\n",
        "\n",
        "plt.show()"
      ],
      "metadata": {
        "colab": {
          "base_uri": "https://localhost:8080/",
          "height": 580
        },
        "id": "v203ATKfSGXW",
        "outputId": "a76bbc80-0be0-47ea-cbf2-f10531bb76da"
      },
      "execution_count": 6,
      "outputs": [
        {
          "output_type": "display_data",
          "data": {
            "text/plain": [
              "<Figure size 720x720 with 2 Axes>"
            ],
            "image/png": "[encoded data removed]"
          },
          "metadata": {
            "needs_background": "light"
          }
        }
      ]
    },
    {
      "cell_type": "markdown",
      "source": [
        "# Precision recall fscore support "
      ],
      "metadata": {
        "id": "dGRkuYSGSm6P"
      }
    },
    {
      "cell_type": "code",
      "source": [
        "\n",
        "y_true = np.array(t_target)\n",
        "y_pred = np.array(prediction)\n",
        "\n",
        "\n",
        "precision_recall_fscore_support(y_true, y_pred, average='macro')\n",
        "\n",
        "precision_recall_fscore_support(y_true, y_pred, average='micro')\n",
        "\n",
        "precision_recall_fscore_support(y_true, y_pred, average='weighted')"
      ],
      "metadata": {
        "colab": {
          "base_uri": "https://localhost:8080/"
        },
        "id": "6xyHkiEOSt2q",
        "outputId": "d6d3839e-af83-41be-f3bb-03ed7281726f"
      },
      "execution_count": 7,
      "outputs": [
        {
          "output_type": "execute_result",
          "data": {
            "text/plain": [
              "(0.7403475582473816, 0.7196273774097555, 0.7223662318201954, None)"
            ]
          },
          "metadata": {},
          "execution_count": 7
        }
      ]
    },
    {
      "cell_type": "markdown",
      "source": [
        "# Classification Report"
      ],
      "metadata": {
        "id": "1W3Bpo7NS5KV"
      }
    },
    {
      "cell_type": "markdown",
      "source": [
        "Precision, recall, f1-score and support all in one report"
      ],
      "metadata": {
        "id": "lJ6s2LlSS-VO"
      }
    },
    {
      "cell_type": "code",
      "source": [
        "print(classification_report(y_true, y_pred, target_names=classes))"
      ],
      "metadata": {
        "colab": {
          "base_uri": "https://localhost:8080/"
        },
        "id": "6NMeru1uUURa",
        "outputId": "2e1f7104-157c-4f67-e6de-5f53cf6e78d9"
      },
      "execution_count": 8,
      "outputs": [
        {
          "output_type": "stream",
          "name": "stdout",
          "text": [
            "              precision    recall  f1-score   support\n",
            "\n",
            "           a       0.63      0.87      0.73      1344\n",
            "           b       0.71      0.69      0.70       428\n",
            "           c       0.73      0.64      0.68       705\n",
            "           d       0.57      0.69      0.62       481\n",
            "           e       0.80      0.62      0.70      1652\n",
            "           f       0.54      0.66      0.59       307\n",
            "           g       0.80      0.69      0.74       824\n",
            "           h       0.59      0.64      0.61       287\n",
            "           i       0.89      0.80      0.84      1638\n",
            "           j       0.28      0.48      0.35        63\n",
            "\n",
            "    accuracy                           0.72      7729\n",
            "   macro avg       0.65      0.68      0.66      7729\n",
            "weighted avg       0.74      0.72      0.72      7729\n",
            "\n"
          ]
        }
      ]
    },
    {
      "cell_type": "markdown",
      "source": [
        "Hmm, we'll work on the hyper parameters shortly. Let's run the ROC. Receiver Operating Characteristic (ROC) metric to evaluate classifier output quality. ROC curves are typically used in binary classification to study the output of a classifier. Get it? Got it? alright, here we go. "
      ],
      "metadata": {
        "id": "nstd2AJxVYel"
      }
    },
    {
      "cell_type": "markdown",
      "source": [
        "# Receiver Operating Characteristic (ROC)"
      ],
      "metadata": {
        "id": "f_Ys9TjTVg3C"
      }
    },
    {
      "cell_type": "markdown",
      "source": [
        "A receiver operating characteristic curve, or ROC curve, is a graphical plot that illustrates the diagnostic ability of a binary classifier system as its discrimination threshold is varied."
      ],
      "metadata": {
        "id": "tHEONSoCYzHM"
      }
    },
    {
      "cell_type": "code",
      "source": [
        "#The ROC curve is created by plotting the true positive rate (TPR) against the \n",
        "#false positive rate (FPR) at various threshold settings. The true-positive rate\n",
        "# is also known as sensitivity, recall or probability of detection.\n",
        "\n",
        "\n",
        "lw = 2\n",
        "plt.figure()\n",
        "\n",
        "\n",
        "#range represents classes a-j\n",
        "for rocClass in range(10):\n",
        "  predict_prob = mnm.predict_proba(features_test)\n",
        "  prob_possibility = predict_prob[:, rocClass]\n",
        "  thresholds = np.arange(0.0, 1.2, 0.1) #just as range gives a range of numbers and its skip patter so does numpy arange\n",
        "  true_pos, false_pos = [0] * len(thresholds), [0] * len(thresholds)\n",
        "  for pred, y in zip(prob_possibility, target_test):\n",
        "    for i, threshold in enumerate(thresholds):\n",
        "      if pred >= threshold:\n",
        "        if y == rocClass:\n",
        "          true_pos[i] += 1\n",
        "        else:\n",
        "          false_pos[i] += 1\n",
        "      else:\n",
        "        break\n",
        "  true_pos_rate = [tp/len(np.where(target_test == rocClass)[0]) for tp in true_pos]\n",
        "  false_pos_rate = [fp/len(np.where(target_test != rocClass)[0]) for fp in false_pos]\n",
        "  roc_score = roc_auc_score(target_test == rocClass, prob_possibility, max_fpr=1)\n",
        "  plt.plot(false_pos_rate, true_pos_rate, label='ROC curve of class {0} (area = {1:0.2f})'.format(classes[rocClass], roc_score))\n",
        "  plt.legend(loc=\"lower right\")\n",
        "  plt.xlim([0.0,1.0])\n",
        "plt.ylim([0.0, 1.0])\n",
        "plt.xlabel('False Positive Rate')\n"
      ],
      "metadata": {
        "colab": {
          "base_uri": "https://localhost:8080/",
          "height": 1000
        },
        "id": "NDrf01tzVjbQ",
        "outputId": "7de6b0da-8330-4a12-b663-9869c1778c19"
      },
      "execution_count": 9,
      "outputs": [
        {
          "output_type": "stream",
          "name": "stderr",
          "text": [
            "/usr/local/lib/python3.7/dist-packages/sklearn/base.py:493: FutureWarning: The feature names should match those that were passed during fit. Starting version 1.2, an error will be raised.\n",
            "Feature names unseen at fit time:\n",
            "- 1.17\n",
            "- 1.18\n",
            "- 1.19\n",
            "Feature names seen at fit time, yet now missing:\n",
            "- 0.108\n",
            "- 0.109\n",
            "- 0.110\n",
            "\n",
            "  warnings.warn(message, FutureWarning)\n",
            "/usr/local/lib/python3.7/dist-packages/sklearn/base.py:493: FutureWarning: The feature names should match those that were passed during fit. Starting version 1.2, an error will be raised.\n",
            "Feature names unseen at fit time:\n",
            "- 1.17\n",
            "- 1.18\n",
            "- 1.19\n",
            "Feature names seen at fit time, yet now missing:\n",
            "- 0.108\n",
            "- 0.109\n",
            "- 0.110\n",
            "\n",
            "  warnings.warn(message, FutureWarning)\n",
            "/usr/local/lib/python3.7/dist-packages/sklearn/base.py:493: FutureWarning: The feature names should match those that were passed during fit. Starting version 1.2, an error will be raised.\n",
            "Feature names unseen at fit time:\n",
            "- 1.17\n",
            "- 1.18\n",
            "- 1.19\n",
            "Feature names seen at fit time, yet now missing:\n",
            "- 0.108\n",
            "- 0.109\n",
            "- 0.110\n",
            "\n",
            "  warnings.warn(message, FutureWarning)\n",
            "/usr/local/lib/python3.7/dist-packages/sklearn/base.py:493: FutureWarning: The feature names should match those that were passed during fit. Starting version 1.2, an error will be raised.\n",
            "Feature names unseen at fit time:\n",
            "- 1.17\n",
            "- 1.18\n",
            "- 1.19\n",
            "Feature names seen at fit time, yet now missing:\n",
            "- 0.108\n",
            "- 0.109\n",
            "- 0.110\n",
            "\n",
            "  warnings.warn(message, FutureWarning)\n",
            "/usr/local/lib/python3.7/dist-packages/sklearn/base.py:493: FutureWarning: The feature names should match those that were passed during fit. Starting version 1.2, an error will be raised.\n",
            "Feature names unseen at fit time:\n",
            "- 1.17\n",
            "- 1.18\n",
            "- 1.19\n",
            "Feature names seen at fit time, yet now missing:\n",
            "- 0.108\n",
            "- 0.109\n",
            "- 0.110\n",
            "\n",
            "  warnings.warn(message, FutureWarning)\n",
            "/usr/local/lib/python3.7/dist-packages/sklearn/base.py:493: FutureWarning: The feature names should match those that were passed during fit. Starting version 1.2, an error will be raised.\n",
            "Feature names unseen at fit time:\n",
            "- 1.17\n",
            "- 1.18\n",
            "- 1.19\n",
            "Feature names seen at fit time, yet now missing:\n",
            "- 0.108\n",
            "- 0.109\n",
            "- 0.110\n",
            "\n",
            "  warnings.warn(message, FutureWarning)\n",
            "/usr/local/lib/python3.7/dist-packages/sklearn/base.py:493: FutureWarning: The feature names should match those that were passed during fit. Starting version 1.2, an error will be raised.\n",
            "Feature names unseen at fit time:\n",
            "- 1.17\n",
            "- 1.18\n",
            "- 1.19\n",
            "Feature names seen at fit time, yet now missing:\n",
            "- 0.108\n",
            "- 0.109\n",
            "- 0.110\n",
            "\n",
            "  warnings.warn(message, FutureWarning)\n",
            "/usr/local/lib/python3.7/dist-packages/sklearn/base.py:493: FutureWarning: The feature names should match those that were passed during fit. Starting version 1.2, an error will be raised.\n",
            "Feature names unseen at fit time:\n",
            "- 1.17\n",
            "- 1.18\n",
            "- 1.19\n",
            "Feature names seen at fit time, yet now missing:\n",
            "- 0.108\n",
            "- 0.109\n",
            "- 0.110\n",
            "\n",
            "  warnings.warn(message, FutureWarning)\n",
            "/usr/local/lib/python3.7/dist-packages/sklearn/base.py:493: FutureWarning: The feature names should match those that were passed during fit. Starting version 1.2, an error will be raised.\n",
            "Feature names unseen at fit time:\n",
            "- 1.17\n",
            "- 1.18\n",
            "- 1.19\n",
            "Feature names seen at fit time, yet now missing:\n",
            "- 0.108\n",
            "- 0.109\n",
            "- 0.110\n",
            "\n",
            "  warnings.warn(message, FutureWarning)\n",
            "/usr/local/lib/python3.7/dist-packages/sklearn/base.py:493: FutureWarning: The feature names should match those that were passed during fit. Starting version 1.2, an error will be raised.\n",
            "Feature names unseen at fit time:\n",
            "- 1.17\n",
            "- 1.18\n",
            "- 1.19\n",
            "Feature names seen at fit time, yet now missing:\n",
            "- 0.108\n",
            "- 0.109\n",
            "- 0.110\n",
            "\n",
            "  warnings.warn(message, FutureWarning)\n"
          ]
        },
        {
          "output_type": "execute_result",
          "data": {
            "text/plain": [
              "Text(0.5, 0, 'False Positive Rate')"
            ]
          },
          "metadata": {},
          "execution_count": 9
        },
        {
          "output_type": "display_data",
          "data": {
            "text/plain": [
              "<Figure size 432x288 with 1 Axes>"
            ],
            "image/png": "[encoded data removed]"
          },
          "metadata": {
            "needs_background": "light"
          }
        }
      ]
    },
    {
      "cell_type": "markdown",
      "source": [
        "# Hyper Parameters with GridSearchCV"
      ],
      "metadata": {
        "id": "TUoi5sq3VwIa"
      }
    },
    {
      "cell_type": "code",
      "source": [
        "#defining parameter range\n",
        "#parameter grid takes a dictionary containing list of \n",
        "#values of each hyperparameter\n",
        "\n",
        "param_grid = {'alpha': [0.1,0.2,0.3,0.4,0.5,0.6,0.7,0.8,0.9,1.0,1.1]} \n",
        "grid = GridSearchCV(mnm, param_grid, refit = True, verbose = 3)\n",
        "\n",
        "\n",
        "# fitting the model for grid search\n",
        "grid.fit(features, target)\n",
        "\n",
        "\n",
        "# print best parameter after tuning\n",
        "print(grid.best_params_)\n",
        "\n",
        "\n",
        "# print how our model looks after hyper-parameter tuning\n",
        "print(grid.best_estimator_)\n",
        "\n",
        "\n",
        "#testing the model\n",
        "grid_predictions = grid.predict(features_test)\n",
        "print(classification_report(target_test, grid_predictions))"
      ],
      "metadata": {
        "colab": {
          "base_uri": "https://localhost:8080/"
        },
        "id": "2lSdnEhQV5aT",
        "outputId": "08bfb6f8-ee6d-4c0f-ee9d-819f1e74e1ca"
      },
      "execution_count": 10,
      "outputs": [
        {
          "output_type": "stream",
          "name": "stdout",
          "text": [
            "Fitting 5 folds for each of 11 candidates, totalling 55 fits\n",
            "[CV 1/5] END .........................alpha=0.1;, score=0.706 total time=   0.1s\n",
            "[CV 2/5] END .........................alpha=0.1;, score=0.698 total time=   0.1s\n",
            "[CV 3/5] END .........................alpha=0.1;, score=0.732 total time=   0.1s\n",
            "[CV 4/5] END .........................alpha=0.1;, score=0.731 total time=   0.2s\n",
            "[CV 5/5] END .........................alpha=0.1;, score=0.729 total time=   0.2s\n",
            "[CV 1/5] END .........................alpha=0.2;, score=0.706 total time=   0.2s\n",
            "[CV 2/5] END .........................alpha=0.2;, score=0.698 total time=   0.2s\n",
            "[CV 3/5] END .........................alpha=0.2;, score=0.732 total time=   0.2s\n",
            "[CV 4/5] END .........................alpha=0.2;, score=0.731 total time=   0.1s\n",
            "[CV 5/5] END .........................alpha=0.2;, score=0.729 total time=   0.2s\n",
            "[CV 1/5] END .........................alpha=0.3;, score=0.706 total time=   0.1s\n",
            "[CV 2/5] END .........................alpha=0.3;, score=0.698 total time=   0.1s\n",
            "[CV 3/5] END .........................alpha=0.3;, score=0.732 total time=   0.1s\n",
            "[CV 4/5] END .........................alpha=0.3;, score=0.731 total time=   0.1s\n",
            "[CV 5/5] END .........................alpha=0.3;, score=0.729 total time=   0.1s\n",
            "[CV 1/5] END .........................alpha=0.4;, score=0.706 total time=   0.1s\n",
            "[CV 2/5] END .........................alpha=0.4;, score=0.698 total time=   0.2s\n",
            "[CV 3/5] END .........................alpha=0.4;, score=0.732 total time=   0.1s\n",
            "[CV 4/5] END .........................alpha=0.4;, score=0.731 total time=   0.1s\n",
            "[CV 5/5] END .........................alpha=0.4;, score=0.729 total time=   0.1s\n",
            "[CV 1/5] END .........................alpha=0.5;, score=0.706 total time=   0.1s\n",
            "[CV 2/5] END .........................alpha=0.5;, score=0.698 total time=   0.1s\n",
            "[CV 3/5] END .........................alpha=0.5;, score=0.732 total time=   0.1s\n",
            "[CV 4/5] END .........................alpha=0.5;, score=0.731 total time=   0.2s\n",
            "[CV 5/5] END .........................alpha=0.5;, score=0.729 total time=   0.2s\n",
            "[CV 1/5] END .........................alpha=0.6;, score=0.706 total time=   0.1s\n",
            "[CV 2/5] END .........................alpha=0.6;, score=0.698 total time=   0.1s\n",
            "[CV 3/5] END .........................alpha=0.6;, score=0.732 total time=   0.2s\n",
            "[CV 4/5] END .........................alpha=0.6;, score=0.731 total time=   0.1s\n",
            "[CV 5/5] END .........................alpha=0.6;, score=0.730 total time=   0.1s\n",
            "[CV 1/5] END .........................alpha=0.7;, score=0.707 total time=   0.1s\n",
            "[CV 2/5] END .........................alpha=0.7;, score=0.698 total time=   0.1s\n",
            "[CV 3/5] END .........................alpha=0.7;, score=0.732 total time=   0.1s\n",
            "[CV 4/5] END .........................alpha=0.7;, score=0.730 total time=   0.1s\n",
            "[CV 5/5] END .........................alpha=0.7;, score=0.730 total time=   0.1s\n",
            "[CV 1/5] END .........................alpha=0.8;, score=0.707 total time=   0.2s\n",
            "[CV 2/5] END .........................alpha=0.8;, score=0.698 total time=   0.1s\n",
            "[CV 3/5] END .........................alpha=0.8;, score=0.732 total time=   0.1s\n",
            "[CV 4/5] END .........................alpha=0.8;, score=0.730 total time=   0.2s\n",
            "[CV 5/5] END .........................alpha=0.8;, score=0.730 total time=   0.2s\n",
            "[CV 1/5] END .........................alpha=0.9;, score=0.706 total time=   0.1s\n",
            "[CV 2/5] END .........................alpha=0.9;, score=0.698 total time=   0.1s\n",
            "[CV 3/5] END .........................alpha=0.9;, score=0.732 total time=   0.1s\n",
            "[CV 4/5] END .........................alpha=0.9;, score=0.731 total time=   0.1s\n",
            "[CV 5/5] END .........................alpha=0.9;, score=0.729 total time=   0.1s\n",
            "[CV 1/5] END .........................alpha=1.0;, score=0.706 total time=   0.1s\n",
            "[CV 2/5] END .........................alpha=1.0;, score=0.698 total time=   0.1s\n",
            "[CV 3/5] END .........................alpha=1.0;, score=0.732 total time=   0.1s\n",
            "[CV 4/5] END .........................alpha=1.0;, score=0.731 total time=   0.1s\n",
            "[CV 5/5] END .........................alpha=1.0;, score=0.729 total time=   0.1s\n",
            "[CV 1/5] END .........................alpha=1.1;, score=0.706 total time=   0.1s\n",
            "[CV 2/5] END .........................alpha=1.1;, score=0.698 total time=   0.1s\n",
            "[CV 3/5] END .........................alpha=1.1;, score=0.732 total time=   0.1s\n",
            "[CV 4/5] END .........................alpha=1.1;, score=0.731 total time=   0.1s\n",
            "[CV 5/5] END .........................alpha=1.1;, score=0.729 total time=   0.1s\n",
            "{'alpha': 0.8}\n",
            "MultinomialNB(alpha=0.8)\n",
            "              precision    recall  f1-score   support\n",
            "\n",
            "           0       0.63      0.86      0.73      1344\n",
            "           1       0.71      0.69      0.70       428\n",
            "           2       0.73      0.64      0.68       705\n",
            "           3       0.57      0.70      0.62       481\n",
            "           4       0.80      0.62      0.70      1652\n",
            "           5       0.54      0.66      0.59       307\n",
            "           6       0.80      0.69      0.74       824\n",
            "           7       0.59      0.64      0.61       287\n",
            "           8       0.89      0.80      0.84      1638\n",
            "           9       0.28      0.48      0.36        63\n",
            "\n",
            "    accuracy                           0.72      7729\n",
            "   macro avg       0.65      0.68      0.66      7729\n",
            "weighted avg       0.74      0.72      0.72      7729\n",
            "\n"
          ]
        },
        {
          "output_type": "stream",
          "name": "stderr",
          "text": [
            "/usr/local/lib/python3.7/dist-packages/sklearn/base.py:493: FutureWarning: The feature names should match those that were passed during fit. Starting version 1.2, an error will be raised.\n",
            "Feature names unseen at fit time:\n",
            "- 1.17\n",
            "- 1.18\n",
            "- 1.19\n",
            "Feature names seen at fit time, yet now missing:\n",
            "- 0.108\n",
            "- 0.109\n",
            "- 0.110\n",
            "\n",
            "  warnings.warn(message, FutureWarning)\n"
          ]
        }
      ]
    },
    {
      "cell_type": "markdown",
      "source": [
        "We found the best alpha hyper parameter!! alpha 0.8!! lets plug"
      ],
      "metadata": {
        "id": "UfvXMqKZWhGN"
      }
    },
    {
      "cell_type": "markdown",
      "source": [
        "# Re-train with optimal hyper parameters"
      ],
      "metadata": {
        "id": "_YbjeFmCWlwT"
      }
    },
    {
      "cell_type": "code",
      "source": [
        "#Re train with hyper parameters\n",
        "\n",
        "features = ocr_train[train_features]\n",
        "target = ocr_train[train_target]\n",
        "\n",
        "features_test = ocr_test[test_features]\n",
        "target_test=ocr_test[test_target]\n",
        "\n",
        "#alpha = 0.8\n",
        "mnm = MultinomialNB(alpha=0.8, fit_prior=True)\n",
        "mnm.fit(features, target)\n",
        "\n",
        "prediction = mnm.predict(features_test)\n",
        "\n",
        "\n",
        "#confusion matrix\n",
        "t_features=ocr_test[test_features]\n",
        "t_target = ocr_test[test_target]\n",
        "t_target = t_target.to_numpy()\n",
        "\n",
        "\n",
        "cMatrix = confusion_matrix(t_target, prediction, labels=range(10))\n",
        "\n",
        "\n",
        "#Functions creating iterators for efficient looping - itertools\n",
        "classes = ['a','b','c','d','e','f','g','h','i','j']\n",
        "\n",
        "plt.figure(figsize=(10,10))\n",
        "\n",
        "plt.imshow(cMatrix, interpolation='nearest', cmap=plt.cm.Blues_r)\n",
        "plt.title('Confusion Matrix - Letter Classification')\n",
        "plt.colorbar()\n",
        "plt.xticks(range(10),classes)\n",
        "plt.yticks(range(10),classes)\n",
        "\n",
        "for k,v in itertools.product(range(cMatrix.shape[0]),range(cMatrix.shape[1])):\n",
        "  plt.text(v, k, cMatrix[k,v],horizontalalignment=\"center\",color=\"white\" if cMatrix[k,v]>800 else \"black\")\n",
        "\n",
        "plt.show()\n",
        "\n",
        "#New scores\n",
        "y_true = np.array(t_target)\n",
        "y_pred = np.array(prediction)\n",
        "\n",
        "\n",
        "print(classification_report(y_true, y_pred, target_names=classes))\n"
      ],
      "metadata": {
        "colab": {
          "base_uri": "https://localhost:8080/",
          "height": 1000
        },
        "id": "dNUIwBtIWvJX",
        "outputId": "0954ea24-c6d8-4726-9ef4-2b60054d6d40"
      },
      "execution_count": 11,
      "outputs": [
        {
          "output_type": "stream",
          "name": "stderr",
          "text": [
            "/usr/local/lib/python3.7/dist-packages/sklearn/base.py:493: FutureWarning: The feature names should match those that were passed during fit. Starting version 1.2, an error will be raised.\n",
            "Feature names unseen at fit time:\n",
            "- 1.17\n",
            "- 1.18\n",
            "- 1.19\n",
            "Feature names seen at fit time, yet now missing:\n",
            "- 0.108\n",
            "- 0.109\n",
            "- 0.110\n",
            "\n",
            "  warnings.warn(message, FutureWarning)\n"
          ]
        },
        {
          "output_type": "display_data",
          "data": {
            "text/plain": [
              "<Figure size 720x720 with 2 Axes>"
            ],
            "image/png": "[encoded data removed]"
          },
          "metadata": {
            "needs_background": "light"
          }
        },
        {
          "output_type": "stream",
          "name": "stdout",
          "text": [
            "              precision    recall  f1-score   support\n",
            "\n",
            "           a       0.63      0.86      0.73      1344\n",
            "           b       0.71      0.69      0.70       428\n",
            "           c       0.73      0.64      0.68       705\n",
            "           d       0.57      0.70      0.62       481\n",
            "           e       0.80      0.62      0.70      1652\n",
            "           f       0.54      0.66      0.59       307\n",
            "           g       0.80      0.69      0.74       824\n",
            "           h       0.59      0.64      0.61       287\n",
            "           i       0.89      0.80      0.84      1638\n",
            "           j       0.28      0.48      0.36        63\n",
            "\n",
            "    accuracy                           0.72      7729\n",
            "   macro avg       0.65      0.68      0.66      7729\n",
            "weighted avg       0.74      0.72      0.72      7729\n",
            "\n"
          ]
        }
      ]
    },
    {
      "cell_type": "markdown",
      "source": [
        "# New Model ??\n"
      ],
      "metadata": {
        "id": "k5-L5KPw4ouc"
      }
    },
    {
      "cell_type": "markdown",
      "source": [
        "Hyper parameters updated yet no changes made. Let's try another model, the ComplimentNB. "
      ],
      "metadata": {
        "id": "5TPA0UiW4vLg"
      }
    },
    {
      "cell_type": "code",
      "source": [
        "\n",
        "#Re train with hyper parameters\n",
        "\n",
        "features = ocr_train[train_features]\n",
        "target = ocr_train[train_target]\n",
        "\n",
        "features_test = ocr_test[test_features]\n",
        "target_test=ocr_test[test_target]\n",
        "\n",
        "#ComplimentNB model\n",
        "cnb = ComplementNB(alpha=1.0, fit_prior=True)\n",
        "cnb.fit(features, target)\n",
        "\n",
        "prediction = cnb.predict(features_test)\n",
        "\n",
        "\n",
        "#confusion matrix\n",
        "t_features=ocr_test[test_features]\n",
        "t_target = ocr_test[test_target]\n",
        "t_target = t_target.to_numpy()\n",
        "\n",
        "\n",
        "cMatrix = confusion_matrix(t_target, prediction, labels=range(10))\n",
        "\n",
        "\n",
        "#Functions creating iterators for efficient looping - itertools\n",
        "classes = ['a','b','c','d','e','f','g','h','i','j']\n",
        "\n",
        "plt.figure(figsize=(10,10))\n",
        "\n",
        "plt.imshow(cMatrix, interpolation='nearest', cmap=plt.cm.Blues_r)\n",
        "plt.title('Confusion Matrix - Letter Classification')\n",
        "plt.colorbar()\n",
        "plt.xticks(range(10),classes)\n",
        "plt.yticks(range(10),classes)\n",
        "\n",
        "for k,v in itertools.product(range(cMatrix.shape[0]),range(cMatrix.shape[1])):\n",
        "  plt.text(v, k, cMatrix[k,v],horizontalalignment=\"center\",color=\"black\" if cMatrix[k,v]>800 else \"white\")\n",
        "\n",
        "plt.show()\n",
        "\n",
        "#New scores\n",
        "y_true = np.array(t_target)\n",
        "y_pred = np.array(prediction)\n",
        "\n",
        "\n",
        "print(classification_report(y_true, y_pred, target_names=classes))"
      ],
      "metadata": {
        "colab": {
          "base_uri": "https://localhost:8080/",
          "height": 1000
        },
        "id": "nGSbdWFd44FY",
        "outputId": "04460abb-8665-454b-ab56-49a06b31818a"
      },
      "execution_count": 19,
      "outputs": [
        {
          "output_type": "stream",
          "name": "stderr",
          "text": [
            "/usr/local/lib/python3.7/dist-packages/sklearn/base.py:493: FutureWarning: The feature names should match those that were passed during fit. Starting version 1.2, an error will be raised.\n",
            "Feature names unseen at fit time:\n",
            "- 1.17\n",
            "- 1.18\n",
            "- 1.19\n",
            "Feature names seen at fit time, yet now missing:\n",
            "- 0.108\n",
            "- 0.109\n",
            "- 0.110\n",
            "\n",
            "  warnings.warn(message, FutureWarning)\n"
          ]
        },
        {
          "output_type": "display_data",
          "data": {
            "text/plain": [
              "<Figure size 720x720 with 2 Axes>"
            ],
            "image/png": "[encoded data removed]"
          },
          "metadata": {
            "needs_background": "light"
          }
        },
        {
          "output_type": "stream",
          "name": "stdout",
          "text": [
            "              precision    recall  f1-score   support\n",
            "\n",
            "           a       0.64      0.82      0.72      1344\n",
            "           b       0.53      0.62      0.57       428\n",
            "           c       0.75      0.13      0.23       705\n",
            "           d       0.58      0.34      0.43       481\n",
            "           e       0.63      0.75      0.69      1652\n",
            "           f       0.81      0.07      0.13       307\n",
            "           g       0.55      0.71      0.62       824\n",
            "           h       0.80      0.01      0.03       287\n",
            "           i       0.70      0.87      0.78      1638\n",
            "           j       0.00      0.00      0.00        63\n",
            "\n",
            "    accuracy                           0.63      7729\n",
            "   macro avg       0.60      0.43      0.42      7729\n",
            "weighted avg       0.65      0.63      0.59      7729\n",
            "\n"
          ]
        },
        {
          "output_type": "stream",
          "name": "stderr",
          "text": [
            "/usr/local/lib/python3.7/dist-packages/sklearn/metrics/_classification.py:1318: UndefinedMetricWarning: Precision and F-score are ill-defined and being set to 0.0 in labels with no predicted samples. Use `zero_division` parameter to control this behavior.\n",
            "  _warn_prf(average, modifier, msg_start, len(result))\n",
            "/usr/local/lib/python3.7/dist-packages/sklearn/metrics/_classification.py:1318: UndefinedMetricWarning: Precision and F-score are ill-defined and being set to 0.0 in labels with no predicted samples. Use `zero_division` parameter to control this behavior.\n",
            "  _warn_prf(average, modifier, msg_start, len(result))\n",
            "/usr/local/lib/python3.7/dist-packages/sklearn/metrics/_classification.py:1318: UndefinedMetricWarning: Precision and F-score are ill-defined and being set to 0.0 in labels with no predicted samples. Use `zero_division` parameter to control this behavior.\n",
            "  _warn_prf(average, modifier, msg_start, len(result))\n"
          ]
        }
      ]
    },
    {
      "cell_type": "code",
      "source": [
        "#defining parameter range\n",
        "#parameter grid takes a dictionary containing list of \n",
        "#values of each hyperparameter\n",
        "\n",
        "param_grid = {'alpha': [0.1,0.2,0.3,0.4,0.5,0.6,0.7,0.8,0.9,1.0,1.1]} \n",
        "grid = GridSearchCV(cnb, param_grid, refit = True, verbose = 3)\n",
        "\n",
        "\n",
        "# fitting the model for grid search\n",
        "grid.fit(features, target)\n",
        "\n",
        "\n",
        "# print best parameter after tuning\n",
        "print(grid.best_params_)\n",
        "\n",
        "\n",
        "# print how our model looks after hyper-parameter tuning\n",
        "print(grid.best_estimator_)\n",
        "\n",
        "\n",
        "#testing the model\n",
        "grid_predictions = grid.predict(features_test)\n",
        "print(classification_report(target_test, grid_predictions))"
      ],
      "metadata": {
        "colab": {
          "base_uri": "https://localhost:8080/"
        },
        "id": "sGEce0qT79zY",
        "outputId": "5f2df75a-ae14-4b71-dafb-e5d90a2c3246"
      },
      "execution_count": 15,
      "outputs": [
        {
          "output_type": "stream",
          "name": "stdout",
          "text": [
            "Fitting 5 folds for each of 11 candidates, totalling 55 fits\n",
            "[CV 1/5] END .........................alpha=0.1;, score=0.635 total time=   0.0s\n",
            "[CV 2/5] END .........................alpha=0.1;, score=0.635 total time=   0.1s\n",
            "[CV 3/5] END .........................alpha=0.1;, score=0.650 total time=   0.1s\n",
            "[CV 4/5] END .........................alpha=0.1;, score=0.644 total time=   0.1s\n",
            "[CV 5/5] END .........................alpha=0.1;, score=0.637 total time=   0.1s\n",
            "[CV 1/5] END .........................alpha=0.2;, score=0.635 total time=   0.1s\n",
            "[CV 2/5] END .........................alpha=0.2;, score=0.635 total time=   0.1s\n",
            "[CV 3/5] END .........................alpha=0.2;, score=0.650 total time=   0.1s\n",
            "[CV 4/5] END .........................alpha=0.2;, score=0.644 total time=   0.1s\n",
            "[CV 5/5] END .........................alpha=0.2;, score=0.637 total time=   0.1s\n",
            "[CV 1/5] END .........................alpha=0.3;, score=0.635 total time=   0.1s\n",
            "[CV 2/5] END .........................alpha=0.3;, score=0.635 total time=   0.1s\n",
            "[CV 3/5] END .........................alpha=0.3;, score=0.650 total time=   0.1s\n",
            "[CV 4/5] END .........................alpha=0.3;, score=0.644 total time=   0.1s\n",
            "[CV 5/5] END .........................alpha=0.3;, score=0.637 total time=   0.1s\n",
            "[CV 1/5] END .........................alpha=0.4;, score=0.635 total time=   0.1s\n",
            "[CV 2/5] END .........................alpha=0.4;, score=0.635 total time=   0.1s\n",
            "[CV 3/5] END .........................alpha=0.4;, score=0.650 total time=   0.1s\n",
            "[CV 4/5] END .........................alpha=0.4;, score=0.644 total time=   0.1s\n",
            "[CV 5/5] END .........................alpha=0.4;, score=0.637 total time=   0.1s\n",
            "[CV 1/5] END .........................alpha=0.5;, score=0.635 total time=   0.1s\n",
            "[CV 2/5] END .........................alpha=0.5;, score=0.635 total time=   0.1s\n",
            "[CV 3/5] END .........................alpha=0.5;, score=0.650 total time=   0.1s\n",
            "[CV 4/5] END .........................alpha=0.5;, score=0.644 total time=   0.1s\n",
            "[CV 5/5] END .........................alpha=0.5;, score=0.637 total time=   0.1s\n",
            "[CV 1/5] END .........................alpha=0.6;, score=0.635 total time=   0.1s\n",
            "[CV 2/5] END .........................alpha=0.6;, score=0.635 total time=   0.1s\n",
            "[CV 3/5] END .........................alpha=0.6;, score=0.650 total time=   0.1s\n",
            "[CV 4/5] END .........................alpha=0.6;, score=0.644 total time=   0.1s\n",
            "[CV 5/5] END .........................alpha=0.6;, score=0.637 total time=   0.1s\n",
            "[CV 1/5] END .........................alpha=0.7;, score=0.635 total time=   0.1s\n",
            "[CV 2/5] END .........................alpha=0.7;, score=0.635 total time=   0.1s\n",
            "[CV 3/5] END .........................alpha=0.7;, score=0.650 total time=   0.1s\n",
            "[CV 4/5] END .........................alpha=0.7;, score=0.644 total time=   0.1s\n",
            "[CV 5/5] END .........................alpha=0.7;, score=0.637 total time=   0.1s\n",
            "[CV 1/5] END .........................alpha=0.8;, score=0.635 total time=   0.1s\n",
            "[CV 2/5] END .........................alpha=0.8;, score=0.635 total time=   0.1s\n",
            "[CV 3/5] END .........................alpha=0.8;, score=0.650 total time=   0.1s\n",
            "[CV 4/5] END .........................alpha=0.8;, score=0.644 total time=   0.1s\n",
            "[CV 5/5] END .........................alpha=0.8;, score=0.637 total time=   0.1s\n",
            "[CV 1/5] END .........................alpha=0.9;, score=0.635 total time=   0.1s\n",
            "[CV 2/5] END .........................alpha=0.9;, score=0.635 total time=   0.1s\n",
            "[CV 3/5] END .........................alpha=0.9;, score=0.650 total time=   0.1s\n",
            "[CV 4/5] END .........................alpha=0.9;, score=0.644 total time=   0.1s\n",
            "[CV 5/5] END .........................alpha=0.9;, score=0.637 total time=   0.1s\n",
            "[CV 1/5] END .........................alpha=1.0;, score=0.635 total time=   0.1s\n",
            "[CV 2/5] END .........................alpha=1.0;, score=0.635 total time=   0.1s\n",
            "[CV 3/5] END .........................alpha=1.0;, score=0.650 total time=   0.1s\n",
            "[CV 4/5] END .........................alpha=1.0;, score=0.644 total time=   0.1s\n",
            "[CV 5/5] END .........................alpha=1.0;, score=0.637 total time=   0.1s\n",
            "[CV 1/5] END .........................alpha=1.1;, score=0.635 total time=   0.1s\n",
            "[CV 2/5] END .........................alpha=1.1;, score=0.635 total time=   0.1s\n",
            "[CV 3/5] END .........................alpha=1.1;, score=0.650 total time=   0.1s\n",
            "[CV 4/5] END .........................alpha=1.1;, score=0.644 total time=   0.1s\n",
            "[CV 5/5] END .........................alpha=1.1;, score=0.637 total time=   0.1s\n",
            "{'alpha': 0.1}\n",
            "ComplementNB(alpha=0.1)\n",
            "              precision    recall  f1-score   support\n",
            "\n",
            "           0       0.64      0.82      0.72      1344\n",
            "           1       0.53      0.62      0.57       428\n",
            "           2       0.75      0.13      0.23       705\n",
            "           3       0.58      0.34      0.43       481\n",
            "           4       0.63      0.75      0.69      1652\n",
            "           5       0.81      0.07      0.13       307\n",
            "           6       0.55      0.71      0.62       824\n",
            "           7       0.80      0.01      0.03       287\n",
            "           8       0.70      0.87      0.78      1638\n",
            "           9       0.00      0.00      0.00        63\n",
            "\n",
            "    accuracy                           0.63      7729\n",
            "   macro avg       0.60      0.43      0.42      7729\n",
            "weighted avg       0.65      0.63      0.59      7729\n",
            "\n"
          ]
        },
        {
          "output_type": "stream",
          "name": "stderr",
          "text": [
            "/usr/local/lib/python3.7/dist-packages/sklearn/base.py:493: FutureWarning: The feature names should match those that were passed during fit. Starting version 1.2, an error will be raised.\n",
            "Feature names unseen at fit time:\n",
            "- 1.17\n",
            "- 1.18\n",
            "- 1.19\n",
            "Feature names seen at fit time, yet now missing:\n",
            "- 0.108\n",
            "- 0.109\n",
            "- 0.110\n",
            "\n",
            "  warnings.warn(message, FutureWarning)\n",
            "/usr/local/lib/python3.7/dist-packages/sklearn/metrics/_classification.py:1318: UndefinedMetricWarning: Precision and F-score are ill-defined and being set to 0.0 in labels with no predicted samples. Use `zero_division` parameter to control this behavior.\n",
            "  _warn_prf(average, modifier, msg_start, len(result))\n",
            "/usr/local/lib/python3.7/dist-packages/sklearn/metrics/_classification.py:1318: UndefinedMetricWarning: Precision and F-score are ill-defined and being set to 0.0 in labels with no predicted samples. Use `zero_division` parameter to control this behavior.\n",
            "  _warn_prf(average, modifier, msg_start, len(result))\n",
            "/usr/local/lib/python3.7/dist-packages/sklearn/metrics/_classification.py:1318: UndefinedMetricWarning: Precision and F-score are ill-defined and being set to 0.0 in labels with no predicted samples. Use `zero_division` parameter to control this behavior.\n",
            "  _warn_prf(average, modifier, msg_start, len(result))\n"
          ]
        }
      ]
    },
    {
      "cell_type": "markdown",
      "source": [
        "# New model new hyper parameters... right?"
      ],
      "metadata": {
        "id": "MxpTmZPZ8jm1"
      }
    },
    {
      "cell_type": "code",
      "source": [
        "\n",
        "#Re train with hyper parameters\n",
        "\n",
        "features = ocr_train[train_features]\n",
        "target = ocr_train[train_target]\n",
        "\n",
        "features_test = ocr_test[test_features]\n",
        "target_test=ocr_test[test_target]\n",
        "\n",
        "#alpha = 0.1\n",
        "cnb = ComplementNB(alpha=0.1, fit_prior=True)\n",
        "cnb.fit(features, target)\n",
        "\n",
        "prediction = cnb.predict(features_test)\n",
        "\n",
        "\n",
        "#confusion matrix\n",
        "t_features=ocr_test[test_features]\n",
        "t_target = ocr_test[test_target]\n",
        "t_target = t_target.to_numpy()\n",
        "\n",
        "\n",
        "cMatrix = confusion_matrix(t_target, prediction, labels=range(10))\n",
        "\n",
        "\n",
        "#Functions creating iterators for efficient looping - itertools\n",
        "classes = ['a','b','c','d','e','f','g','h','i','j']\n",
        "\n",
        "plt.figure(figsize=(10,10))\n",
        "\n",
        "plt.imshow(cMatrix, interpolation='nearest', cmap=plt.cm.Blues_r)\n",
        "plt.title('Confusion Matrix - Letter Classification')\n",
        "plt.colorbar()\n",
        "plt.xticks(range(10),classes)\n",
        "plt.yticks(range(10),classes)\n",
        "\n",
        "for k,v in itertools.product(range(cMatrix.shape[0]),range(cMatrix.shape[1])):\n",
        "  plt.text(v, k, cMatrix[k,v],horizontalalignment=\"center\",color=\"black\" if cMatrix[k,v]>800 else \"white\")\n",
        "\n",
        "plt.show()\n",
        "\n",
        "#New scores\n",
        "y_true = np.array(t_target)\n",
        "y_pred = np.array(prediction)\n",
        "\n",
        "\n",
        "print(classification_report(y_true, y_pred, target_names=classes))"
      ],
      "metadata": {
        "colab": {
          "base_uri": "https://localhost:8080/",
          "height": 1000
        },
        "id": "yTX0_gTV9EQA",
        "outputId": "34311e82-dbb1-4480-bf33-407c83b4a2c2"
      },
      "execution_count": 22,
      "outputs": [
        {
          "output_type": "stream",
          "name": "stderr",
          "text": [
            "/usr/local/lib/python3.7/dist-packages/sklearn/base.py:493: FutureWarning: The feature names should match those that were passed during fit. Starting version 1.2, an error will be raised.\n",
            "Feature names unseen at fit time:\n",
            "- 1.17\n",
            "- 1.18\n",
            "- 1.19\n",
            "Feature names seen at fit time, yet now missing:\n",
            "- 0.108\n",
            "- 0.109\n",
            "- 0.110\n",
            "\n",
            "  warnings.warn(message, FutureWarning)\n"
          ]
        },
        {
          "output_type": "display_data",
          "data": {
            "text/plain": [
              "<Figure size 720x720 with 2 Axes>"
            ],
            "image/png": "[encoded data removed]"
          },
          "metadata": {
            "needs_background": "light"
          }
        },
        {
          "output_type": "stream",
          "name": "stdout",
          "text": [
            "              precision    recall  f1-score   support\n",
            "\n",
            "           a       0.64      0.82      0.72      1344\n",
            "           b       0.53      0.62      0.57       428\n",
            "           c       0.75      0.13      0.23       705\n",
            "           d       0.58      0.34      0.43       481\n",
            "           e       0.63      0.75      0.69      1652\n",
            "           f       0.81      0.07      0.13       307\n",
            "           g       0.55      0.71      0.62       824\n",
            "           h       0.80      0.01      0.03       287\n",
            "           i       0.70      0.87      0.78      1638\n",
            "           j       0.00      0.00      0.00        63\n",
            "\n",
            "    accuracy                           0.63      7729\n",
            "   macro avg       0.60      0.43      0.42      7729\n",
            "weighted avg       0.65      0.63      0.59      7729\n",
            "\n"
          ]
        },
        {
          "output_type": "stream",
          "name": "stderr",
          "text": [
            "/usr/local/lib/python3.7/dist-packages/sklearn/metrics/_classification.py:1318: UndefinedMetricWarning: Precision and F-score are ill-defined and being set to 0.0 in labels with no predicted samples. Use `zero_division` parameter to control this behavior.\n",
            "  _warn_prf(average, modifier, msg_start, len(result))\n",
            "/usr/local/lib/python3.7/dist-packages/sklearn/metrics/_classification.py:1318: UndefinedMetricWarning: Precision and F-score are ill-defined and being set to 0.0 in labels with no predicted samples. Use `zero_division` parameter to control this behavior.\n",
            "  _warn_prf(average, modifier, msg_start, len(result))\n",
            "/usr/local/lib/python3.7/dist-packages/sklearn/metrics/_classification.py:1318: UndefinedMetricWarning: Precision and F-score are ill-defined and being set to 0.0 in labels with no predicted samples. Use `zero_division` parameter to control this behavior.\n",
            "  _warn_prf(average, modifier, msg_start, len(result))\n"
          ]
        }
      ]
    },
    {
      "cell_type": "markdown",
      "source": [
        "In conclusion, as a comparrison, due to the lack of and recognition or support from the model in reference to the 'j' class, as well as other losses in accuracy scores, we'll stick with the MultiNominal Model with the optimized hyper parameters as our final model. "
      ],
      "metadata": {
        "id": "fc8adVcFCRcS"
      }
    }
  ]
}