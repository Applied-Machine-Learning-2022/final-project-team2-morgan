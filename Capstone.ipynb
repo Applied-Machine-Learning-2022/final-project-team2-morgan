{
  "nbformat": 4,
  "nbformat_minor": 0,
  "metadata": {
    "colab": {
      "name": "Capstone.ipynb",
      "provenance": [],
      "collapsed_sections": []
    },
    "kernelspec": {
      "name": "python3",
      "display_name": "Python 3"
    },
    "language_info": {
      "name": "python"
    }
  },
  "cells": [
    {
      "cell_type": "markdown",
      "source": [
        "Letter Classification CapStone!"
      ],
      "metadata": {
        "id": "sJBaxH6GJhLj"
      }
    },
    {
      "cell_type": "markdown",
      "source": [
        ""
      ],
      "metadata": {
        "id": "3urVYc34H-Ya"
      }
    },
    {
      "cell_type": "code",
      "source": [
        "! unzip ocr_data.zip\n",
        "! ls\n",
        "#Unzppied ocr_data.zip\n",
        "#Added kaggle json to utilize not only the unzip feature \n",
        "#as well as kaggles exploratory libraries \n"
      ],
      "metadata": {
        "colab": {
          "base_uri": "https://localhost:8080/"
        },
        "id": "LKAPfY0qH-_N",
<<<<<<< Updated upstream
        "outputId": "851eb5f6-c08c-41df-e2f9-82f95e56bd3e"
=======
        "outputId": "8d612f45-75cf-41d1-a074-543605874ee1"
>>>>>>> Stashed changes
      },
      "execution_count": 11,
      "outputs": [
        {
          "output_type": "stream",
          "name": "stdout",
          "text": [
            "Archive:  ocr_data.zip\n",
            "replace ocr10-test.txt? [y]es, [n]o, [A]ll, [N]one, [r]ename: y\n",
            "  inflating: ocr10-test.txt          \n",
            "replace ocr10-train.txt? [y]es, [n]o, [A]ll, [N]one, [r]ename: y\n",
            "  inflating: ocr10-train.txt         \n",
            "ocr10-test.txt\tocr10-train.txt  ocr_data.zip  sample_data\n"
          ]
        }
      ]
    },
    {
      "cell_type": "markdown",
      "source": [
        "It appears there is **two** seperate sets of data! Both .txt extentions and *reads* as *follows*: \n",
        "- **ocr10-test.txt** \n",
        "- **ocr10-train.txt** \n",
        "\n",
        "Now what does that data look like? IS it complete? Is it even? Let's explore!"
      ],
      "metadata": {
        "id": "d0aZB5LYIm-n"
      }
    },
    {
      "cell_type": "code",
      "source": [
        "import pandas as pd\n",
        "\n",
        "\n",
        "ocr_test = pd.read_table('ocr10-test.txt', sep=',')\n",
        "ocr_train = pd.read_table('ocr10-train.txt', sep=',')\n",
        "#Brought the two .txt files into the playing field\n",
        "#No benchwarmers over here \n",
        "\n",
        "ocr_train.head() #5 rows x 129 col\n",
        "#Features are numbered from int '0' to remaining floats '0.111'\n",
        "#ie 0, 0.1, 0.2,...\n",
        "#y.head()\n",
        "#Upon further anylsis the train and test is an even split of data\n"
      ],
      "metadata": {
        "colab": {
          "base_uri": "https://localhost:8080/",
          "height": 236
        },
        "id": "zSPVjyKuJdAi",
<<<<<<< Updated upstream
        "outputId": "16a6c4c6-f719-4af0-ae9b-6fb3e57172ac"
=======
        "outputId": "994e2330-e4da-4a0a-d2ac-35db7a396d0b"
>>>>>>> Stashed changes
      },
      "execution_count": 12,
      "outputs": [
        {
          "output_type": "execute_result",
          "data": {
            "text/plain": [
              "   0  0.1  0.2  0.3  0.4  0.5  0.6  0.7  0.8  0.9  ...  0.102  0.103  0.104  \\\n",
              "0  0    0    0    0    0    0    0    0    0    0  ...      0      0      0   \n",
              "1  0    0    0    0    0    0    0    0    0    0  ...      0      0      0   \n",
              "2  0    0    0    0    0    0    0    0    0    0  ...      0      0      0   \n",
              "3  0    0    0    0    0    0    0    0    0    0  ...      0      0      0   \n",
              "4  0    0    0    0    0    0    0    0    0    0  ...      0      0      0   \n",
              "\n",
              "   0.105  0.106  0.107  0.108  0.109  0.110  0.111  \n",
              "0      0      0      0      0      0      0      0  \n",
              "1      0      0      0      0      0      0      0  \n",
              "2      0      0      0      0      0      0      0  \n",
              "3      0      0      0      0      0      0      0  \n",
              "4      0      0      0      0      0      0      0  \n",
              "\n",
              "[5 rows x 129 columns]"
            ],
            "text/html": [
              "\n",
<<<<<<< Updated upstream
              "  <div id=\"df-4b76b88e-290c-4610-a946-93f38650f521\">\n",
=======
              "  <div id=\"df-fc1b79bc-b04c-4a73-a6c4-b9ba17798edd\">\n",
>>>>>>> Stashed changes
              "    <div class=\"colab-df-container\">\n",
              "      <div>\n",
              "<style scoped>\n",
              "    .dataframe tbody tr th:only-of-type {\n",
              "        vertical-align: middle;\n",
              "    }\n",
              "\n",
              "    .dataframe tbody tr th {\n",
              "        vertical-align: top;\n",
              "    }\n",
              "\n",
              "    .dataframe thead th {\n",
              "        text-align: right;\n",
              "    }\n",
              "</style>\n",
              "<table border=\"1\" class=\"dataframe\">\n",
              "  <thead>\n",
              "    <tr style=\"text-align: right;\">\n",
              "      <th></th>\n",
              "      <th>0</th>\n",
              "      <th>0.1</th>\n",
              "      <th>0.2</th>\n",
              "      <th>0.3</th>\n",
              "      <th>0.4</th>\n",
              "      <th>0.5</th>\n",
              "      <th>0.6</th>\n",
              "      <th>0.7</th>\n",
              "      <th>0.8</th>\n",
              "      <th>0.9</th>\n",
              "      <th>...</th>\n",
              "      <th>0.102</th>\n",
              "      <th>0.103</th>\n",
              "      <th>0.104</th>\n",
              "      <th>0.105</th>\n",
              "      <th>0.106</th>\n",
              "      <th>0.107</th>\n",
              "      <th>0.108</th>\n",
              "      <th>0.109</th>\n",
              "      <th>0.110</th>\n",
              "      <th>0.111</th>\n",
              "    </tr>\n",
              "  </thead>\n",
              "  <tbody>\n",
              "    <tr>\n",
              "      <th>0</th>\n",
              "      <td>0</td>\n",
              "      <td>0</td>\n",
              "      <td>0</td>\n",
              "      <td>0</td>\n",
              "      <td>0</td>\n",
              "      <td>0</td>\n",
              "      <td>0</td>\n",
              "      <td>0</td>\n",
              "      <td>0</td>\n",
              "      <td>0</td>\n",
              "      <td>...</td>\n",
              "      <td>0</td>\n",
              "      <td>0</td>\n",
              "      <td>0</td>\n",
              "      <td>0</td>\n",
              "      <td>0</td>\n",
              "      <td>0</td>\n",
              "      <td>0</td>\n",
              "      <td>0</td>\n",
              "      <td>0</td>\n",
              "      <td>0</td>\n",
              "    </tr>\n",
              "    <tr>\n",
              "      <th>1</th>\n",
              "      <td>0</td>\n",
              "      <td>0</td>\n",
              "      <td>0</td>\n",
              "      <td>0</td>\n",
              "      <td>0</td>\n",
              "      <td>0</td>\n",
              "      <td>0</td>\n",
              "      <td>0</td>\n",
              "      <td>0</td>\n",
              "      <td>0</td>\n",
              "      <td>...</td>\n",
              "      <td>0</td>\n",
              "      <td>0</td>\n",
              "      <td>0</td>\n",
              "      <td>0</td>\n",
              "      <td>0</td>\n",
              "      <td>0</td>\n",
              "      <td>0</td>\n",
              "      <td>0</td>\n",
              "      <td>0</td>\n",
              "      <td>0</td>\n",
              "    </tr>\n",
              "    <tr>\n",
              "      <th>2</th>\n",
              "      <td>0</td>\n",
              "      <td>0</td>\n",
              "      <td>0</td>\n",
              "      <td>0</td>\n",
              "      <td>0</td>\n",
              "      <td>0</td>\n",
              "      <td>0</td>\n",
              "      <td>0</td>\n",
              "      <td>0</td>\n",
              "      <td>0</td>\n",
              "      <td>...</td>\n",
              "      <td>0</td>\n",
              "      <td>0</td>\n",
              "      <td>0</td>\n",
              "      <td>0</td>\n",
              "      <td>0</td>\n",
              "      <td>0</td>\n",
              "      <td>0</td>\n",
              "      <td>0</td>\n",
              "      <td>0</td>\n",
              "      <td>0</td>\n",
              "    </tr>\n",
              "    <tr>\n",
              "      <th>3</th>\n",
              "      <td>0</td>\n",
              "      <td>0</td>\n",
              "      <td>0</td>\n",
              "      <td>0</td>\n",
              "      <td>0</td>\n",
              "      <td>0</td>\n",
              "      <td>0</td>\n",
              "      <td>0</td>\n",
              "      <td>0</td>\n",
              "      <td>0</td>\n",
              "      <td>...</td>\n",
              "      <td>0</td>\n",
              "      <td>0</td>\n",
              "      <td>0</td>\n",
              "      <td>0</td>\n",
              "      <td>0</td>\n",
              "      <td>0</td>\n",
              "      <td>0</td>\n",
              "      <td>0</td>\n",
              "      <td>0</td>\n",
              "      <td>0</td>\n",
              "    </tr>\n",
              "    <tr>\n",
              "      <th>4</th>\n",
              "      <td>0</td>\n",
              "      <td>0</td>\n",
              "      <td>0</td>\n",
              "      <td>0</td>\n",
              "      <td>0</td>\n",
              "      <td>0</td>\n",
              "      <td>0</td>\n",
              "      <td>0</td>\n",
              "      <td>0</td>\n",
              "      <td>0</td>\n",
              "      <td>...</td>\n",
              "      <td>0</td>\n",
              "      <td>0</td>\n",
              "      <td>0</td>\n",
              "      <td>0</td>\n",
              "      <td>0</td>\n",
              "      <td>0</td>\n",
              "      <td>0</td>\n",
              "      <td>0</td>\n",
              "      <td>0</td>\n",
              "      <td>0</td>\n",
              "    </tr>\n",
              "  </tbody>\n",
              "</table>\n",
              "<p>5 rows × 129 columns</p>\n",
              "</div>\n",
<<<<<<< Updated upstream
              "      <button class=\"colab-df-convert\" onclick=\"convertToInteractive('df-4b76b88e-290c-4610-a946-93f38650f521')\"\n",
=======
              "      <button class=\"colab-df-convert\" onclick=\"convertToInteractive('df-fc1b79bc-b04c-4a73-a6c4-b9ba17798edd')\"\n",
>>>>>>> Stashed changes
              "              title=\"Convert this dataframe to an interactive table.\"\n",
              "              style=\"display:none;\">\n",
              "        \n",
              "  <svg xmlns=\"http://www.w3.org/2000/svg\" height=\"24px\"viewBox=\"0 0 24 24\"\n",
              "       width=\"24px\">\n",
              "    <path d=\"M0 0h24v24H0V0z\" fill=\"none\"/>\n",
              "    <path d=\"M18.56 5.44l.94 2.06.94-2.06 2.06-.94-2.06-.94-.94-2.06-.94 2.06-2.06.94zm-11 1L8.5 8.5l.94-2.06 2.06-.94-2.06-.94L8.5 2.5l-.94 2.06-2.06.94zm10 10l.94 2.06.94-2.06 2.06-.94-2.06-.94-.94-2.06-.94 2.06-2.06.94z\"/><path d=\"M17.41 7.96l-1.37-1.37c-.4-.4-.92-.59-1.43-.59-.52 0-1.04.2-1.43.59L10.3 9.45l-7.72 7.72c-.78.78-.78 2.05 0 2.83L4 21.41c.39.39.9.59 1.41.59.51 0 1.02-.2 1.41-.59l7.78-7.78 2.81-2.81c.8-.78.8-2.07 0-2.86zM5.41 20L4 18.59l7.72-7.72 1.47 1.35L5.41 20z\"/>\n",
              "  </svg>\n",
              "      </button>\n",
              "      \n",
              "  <style>\n",
              "    .colab-df-container {\n",
              "      display:flex;\n",
              "      flex-wrap:wrap;\n",
              "      gap: 12px;\n",
              "    }\n",
              "\n",
              "    .colab-df-convert {\n",
              "      background-color: #E8F0FE;\n",
              "      border: none;\n",
              "      border-radius: 50%;\n",
              "      cursor: pointer;\n",
              "      display: none;\n",
              "      fill: #1967D2;\n",
              "      height: 32px;\n",
              "      padding: 0 0 0 0;\n",
              "      width: 32px;\n",
              "    }\n",
              "\n",
              "    .colab-df-convert:hover {\n",
              "      background-color: #E2EBFA;\n",
              "      box-shadow: 0px 1px 2px rgba(60, 64, 67, 0.3), 0px 1px 3px 1px rgba(60, 64, 67, 0.15);\n",
              "      fill: #174EA6;\n",
              "    }\n",
              "\n",
              "    [theme=dark] .colab-df-convert {\n",
              "      background-color: #3B4455;\n",
              "      fill: #D2E3FC;\n",
              "    }\n",
              "\n",
              "    [theme=dark] .colab-df-convert:hover {\n",
              "      background-color: #434B5C;\n",
              "      box-shadow: 0px 1px 3px 1px rgba(0, 0, 0, 0.15);\n",
              "      filter: drop-shadow(0px 1px 2px rgba(0, 0, 0, 0.3));\n",
              "      fill: #FFFFFF;\n",
              "    }\n",
              "  </style>\n",
              "\n",
              "      <script>\n",
              "        const buttonEl =\n",
<<<<<<< Updated upstream
              "          document.querySelector('#df-4b76b88e-290c-4610-a946-93f38650f521 button.colab-df-convert');\n",
=======
              "          document.querySelector('#df-fc1b79bc-b04c-4a73-a6c4-b9ba17798edd button.colab-df-convert');\n",
>>>>>>> Stashed changes
              "        buttonEl.style.display =\n",
              "          google.colab.kernel.accessAllowed ? 'block' : 'none';\n",
              "\n",
              "        async function convertToInteractive(key) {\n",
<<<<<<< Updated upstream
              "          const element = document.querySelector('#df-4b76b88e-290c-4610-a946-93f38650f521');\n",
=======
              "          const element = document.querySelector('#df-fc1b79bc-b04c-4a73-a6c4-b9ba17798edd');\n",
>>>>>>> Stashed changes
              "          const dataTable =\n",
              "            await google.colab.kernel.invokeFunction('convertToInteractive',\n",
              "                                                     [key], {});\n",
              "          if (!dataTable) return;\n",
              "\n",
              "          const docLinkHtml = 'Like what you see? Visit the ' +\n",
              "            '<a target=\"_blank\" href=https://colab.research.google.com/notebooks/data_table.ipynb>data table notebook</a>'\n",
              "            + ' to learn more about interactive tables.';\n",
              "          element.innerHTML = '';\n",
              "          dataTable['output_type'] = 'display_data';\n",
              "          await google.colab.output.renderOutput(dataTable, element);\n",
              "          const docLink = document.createElement('div');\n",
              "          docLink.innerHTML = docLinkHtml;\n",
              "          element.appendChild(docLink);\n",
              "        }\n",
              "      </script>\n",
              "    </div>\n",
              "  </div>\n",
              "  "
            ]
          },
          "metadata": {},
          "execution_count": 12
        }
      ]
    },
    {
      "cell_type": "markdown",
      "source": [
        "Numbers, numbers! Let's see some visualizations. Let's set our Features and Target. "
      ],
      "metadata": {
        "id": "oM76Uu-gVK93"
      }
    },
    {
      "cell_type": "code",
      "source": [
        "import matplotlib.pyplot as plt\n",
        "import numpy\n",
        "\n",
        "#because the last row is the target column\n",
        "#make it so\n",
        "\n",
        "train_features = ocr_train.columns[:-1]\n",
        "test_features = ocr_test.columns[:-1]\n",
        "\n",
        "# -1 calls all columns except your last one\n",
        "#recognnizing features \n",
        "\n",
        "\n",
        "train_target = ocr_train.columns[-1]\n",
        "test_target = ocr_test.columns[-1]\n",
        "\n",
        "#convert to numpy for visuals\n",
        "ocr_train_np=ocr_train[train_features].to_numpy()\n",
        "ocr_test_np=ocr_test[test_features].to_numpy()\n",
        "\n",
        "#toprint\n",
        "\n",
        "letter = ocr_train_np[0,:].reshape(16,8)\n",
        "plt.imshow(letter)"
      ],
      "metadata": {
        "colab": {
          "base_uri": "https://localhost:8080/",
          "height": 283
        },
        "id": "aNhN_3v1VfsK",
<<<<<<< Updated upstream
        "outputId": "0679fdc9-4b97-4ec1-aab5-ace33e166ca2"
      },
      "execution_count": 12,
=======
        "outputId": "e89480eb-3f93-4ec2-89e0-9dc4e067fa22"
      },
      "execution_count": 13,
>>>>>>> Stashed changes
      "outputs": [
        {
          "output_type": "execute_result",
          "data": {
            "text/plain": [
<<<<<<< Updated upstream
              "<matplotlib.image.AxesImage at 0x7fcf50b3d790>"
            ]
          },
          "metadata": {},
          "execution_count": 12
=======
              "<matplotlib.image.AxesImage at 0x7ff3be301190>"
            ]
          },
          "metadata": {},
          "execution_count": 13
>>>>>>> Stashed changes
        },
        {
          "output_type": "display_data",
          "data": {
            "text/plain": [
              "<Figure size 432x288 with 1 Axes>"
            ],
            "image/png": "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\n"
          },
          "metadata": {
            "needs_background": "light"
          }
        }
      ]
    },
    {
      "cell_type": "code",
      "source": [
<<<<<<< Updated upstream
=======
        "len(test_features)"
      ],
      "metadata": {
        "colab": {
          "base_uri": "https://localhost:8080/"
        },
        "id": "55SZ0vxrOFWz",
        "outputId": "19af049b-b312-47ea-979a-32fd10459431"
      },
      "execution_count": 14,
      "outputs": [
        {
          "output_type": "execute_result",
          "data": {
            "text/plain": [
              "128"
            ]
          },
          "metadata": {},
          "execution_count": 14
        }
      ]
    },
    {
      "cell_type": "code",
      "source": [
>>>>>>> Stashed changes
        "print(ocr_train_np[0,:])"
      ],
      "metadata": {
        "colab": {
          "base_uri": "https://localhost:8080/"
        },
        "id": "YbOeoutcS3kc",
<<<<<<< Updated upstream
        "outputId": "2c1a377d-7cfe-4852-9a67-c8306bea54ed"
      },
      "execution_count": 13,
=======
        "outputId": "cd7b4b91-fad2-43a2-eb2a-49c40d3b2ddb"
      },
      "execution_count": 15,
>>>>>>> Stashed changes
      "outputs": [
        {
          "output_type": "stream",
          "name": "stdout",
          "text": [
            "[0 0 0 0 0 0 0 0 0 0 0 0 0 0 0 0 0 0 0 0 0 0 0 0 0 0 0 0 0 0 0 0 0 0 0 0 1\n",
            " 1 0 0 0 0 1 1 1 1 0 0 0 1 1 0 0 1 0 0 1 1 0 0 1 0 0 0 1 0 1 1 1 1 0 0 1 0\n",
            " 1 0 1 1 0 0 1 1 1 1 1 1 1 0 1 1 0 0 0 0 1 1 0 0 0 0 0 0 0 0 0 0 0 0 0 0 0\n",
            " 0 0 0 0 0 0 0 0 0 0 0 0 0 0 0 0 0]\n"
          ]
        }
      ]
    },
    {
      "cell_type": "code",
      "source": [
        "#lets train naive bayes model\n",
        "#MulitNominal Model\n",
        "from sklearn.naive_bayes import MultinomialNB\n",
        "\n",
        "features = ocr_train[train_features]\n",
        "target = ocr_train[train_target]\n",
        "\n",
        "\n",
        "mnm = MultinomialNB(alpha=1.0, fit_prior=True)\n",
        "mnm.fit(features, target)\n",
        "\n",
<<<<<<< Updated upstream
        "prediction = mnm.predict(features)"
      ],
      "metadata": {
        "id": "jfIEGJ25-SQC"
      },
      "execution_count": 23,
      "outputs": []
=======
        "prediction = mnm.predict(features_test)"
      ],
      "metadata": {
        "colab": {
          "base_uri": "https://localhost:8080/"
        },
        "id": "jfIEGJ25-SQC",
        "outputId": "f13f6ede-57c3-425e-a5b7-02afe63988bb"
      },
      "execution_count": 16,
      "outputs": [
        {
          "output_type": "stream",
          "name": "stderr",
          "text": [
            "/usr/local/lib/python3.7/dist-packages/sklearn/base.py:493: FutureWarning: The feature names should match those that were passed during fit. Starting version 1.2, an error will be raised.\n",
            "Feature names unseen at fit time:\n",
            "- 1.17\n",
            "- 1.18\n",
            "- 1.19\n",
            "Feature names seen at fit time, yet now missing:\n",
            "- 0.108\n",
            "- 0.109\n",
            "- 0.110\n",
            "\n",
            "  warnings.warn(message, FutureWarning)\n"
          ]
        }
      ]
    },
    {
      "cell_type": "code",
      "source": [
        "prediction"
      ],
      "metadata": {
        "colab": {
          "base_uri": "https://localhost:8080/"
        },
        "id": "wQoYhE9MPfc2",
        "outputId": "0c3f95b3-b587-4605-a5ed-3f5b1d8f93f7"
      },
      "execution_count": 17,
      "outputs": [
        {
          "output_type": "execute_result",
          "data": {
            "text/plain": [
              "array([0, 0, 0, ..., 9, 8, 9])"
            ]
          },
          "metadata": {},
          "execution_count": 17
        }
      ]
    },
    {
      "cell_type": "code",
      "source": [
        "type(prediction)"
      ],
      "metadata": {
        "colab": {
          "base_uri": "https://localhost:8080/"
        },
        "id": "KmI-AH46PjGt",
        "outputId": "1e7681dd-8127-4861-d4ba-1404d43a3414"
      },
      "execution_count": 18,
      "outputs": [
        {
          "output_type": "execute_result",
          "data": {
            "text/plain": [
              "numpy.ndarray"
            ]
          },
          "metadata": {},
          "execution_count": 18
        }
      ]
    },
    {
      "cell_type": "code",
      "source": [
        "len(prediction)"
      ],
      "metadata": {
        "colab": {
          "base_uri": "https://localhost:8080/"
        },
        "id": "kAJbvNd-QU5T",
        "outputId": "e54753c7-aba1-49bf-b5d6-f809c9ceee4f"
      },
      "execution_count": 19,
      "outputs": [
        {
          "output_type": "execute_result",
          "data": {
            "text/plain": [
              "7729"
            ]
          },
          "metadata": {},
          "execution_count": 19
        }
      ]
>>>>>>> Stashed changes
    },
    {
      "cell_type": "markdown",
      "source": [
        "**Confusion Matrix** Time! Why a **Confusion Matrix** is an N x N matrix used for evaluating the performance of a classification model, where N is the number of target classes. The matrix compares the actual target values with those predicted by the machine learning model. *Get it? Got it? Good!*y"
      ],
      "metadata": {
        "id": "7algmKuSJZUS"
      }
    },
    {
      "cell_type": "code",
      "source": [
        "from sklearn.metrics import confusion_matrix\n",
        "\n",
        "t_features=ocr_test[test_features]\n",
        "t_target = ocr_test[test_target]\n",
        "\n",
        "\n",
        "letters = ['a','b','c','d','e','f','g','h','i','j']\n",
        "cMatrix = confusion_matrix(t_target, prediction, labels=range(10))\n",
<<<<<<< Updated upstream
        "\n",
        "print(cMatrix)\n"
      ],
      "metadata": {
        "id": "auUhEEb6JY9G"
=======
        "print(cMatrix)\n"
      ],
      "metadata": {
        "colab": {
          "base_uri": "https://localhost:8080/"
        },
        "id": "auUhEEb6JY9G",
        "outputId": "1f86fab4-fc27-4768-900e-31ade35f068d"
      },
      "execution_count": 20,
      "outputs": [
        {
          "output_type": "stream",
          "name": "stdout",
          "text": [
            "[[1163    2   29   33   61    3   33   17    1    2]\n",
            " [  10  295    0   14   12    3    6   59   28    1]\n",
            " [ 129    7  450    6   91    5   15    1    1    0]\n",
            " [  54    6    4  334   16    2    7    2   40   16]\n",
            " [ 378   17  109    6 1025   69   46    2    0    0]\n",
            " [   9    4    8   13   29  202    2    8   32    0]\n",
            " [  70   17    4   76   40   18  567    6   26    0]\n",
            " [  11   46    1   12    4    0    3  185   25    0]\n",
            " [  15   21   12   90    6   70   20   35 1311   58]\n",
            " [   1    2    0    6    1    0    7    0   16   30]]\n"
          ]
        }
      ]
    },
    {
      "cell_type": "code",
      "source": [
        "cMatrix.shape[1]"
      ],
      "metadata": {
        "colab": {
          "base_uri": "https://localhost:8080/"
        },
        "id": "HVYrjkOSX1UQ",
        "outputId": "aa17148d-6ded-43a4-dcec-9a880e2fa62d"
      },
      "execution_count": 21,
      "outputs": [
        {
          "output_type": "execute_result",
          "data": {
            "text/plain": [
              "10"
            ]
          },
          "metadata": {},
          "execution_count": 21
        }
      ]
    },
    {
      "cell_type": "code",
      "source": [
        "import itertools\n",
        "import matplotlib.pyplot as plt\n",
        "\n",
        "classes = ['a','b','c','d','e','f','g','h','i','j']\n",
        "\n",
        "plt.figure(figsize=(10,10))\n",
        "\n",
        "plt.imshow(cMatrix, interpolation='nearest', cmap=plt.cm.Blues_r)\n",
        "plt.title('Confusion Matrix - Letter Classification')\n",
        "plt.colorbar()\n",
        "plt.xticks(range(10),classes)\n",
        "plt.yticks(range(10),classes)\n",
        "\n",
        "for k,v in itertools.product(range(cMatrix.shape[0]),range(cMatrix.shape[1])):\n",
        "  plt.text(v, k, cMatrix[k,v],horizontalalignment=\"center\",color=\"white\" if cMatrix[k,v]>800 else \"black\")\n",
        "\n",
        "plt.show()\n",
        "\n"
      ],
      "metadata": {
        "colab": {
          "base_uri": "https://localhost:8080/",
          "height": 580
        },
        "id": "XwTmZC2KTXyK",
        "outputId": "bf2bca34-e5ae-4f87-e8fc-eb2730a7b76f"
      },
      "execution_count": 22,
      "outputs": [
        {
          "output_type": "display_data",
          "data": {
            "text/plain": [
              "<Figure size 720x720 with 2 Axes>"
            ],
            "image/png": "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\n"
          },
          "metadata": {
            "needs_background": "light"
          }
        }
      ]
    },
    {
      "cell_type": "markdown",
      "source": [
        ""
      ],
      "metadata": {
        "id": "wjaOlIQccjuf"
      }
    },
    {
      "cell_type": "code",
      "source": [
        "import numpy as np\n",
        "from sklearn.metrics import precision_recall_fscore_support\n",
        "\n",
        "\n",
        "y_true = np.array(t_target)\n",
        "y_pred = np.array(prediction)\n",
        "\n",
        "\n",
        "precision_recall_fscore_support(y_true, y_pred, average='macro')\n",
        "\n",
        "precision_recall_fscore_support(y_true, y_pred, average='micro')\n",
        "\n",
        "precision_recall_fscore_support(y_true, y_pred, average='weighted')"
      ],
      "metadata": {
        "colab": {
          "base_uri": "https://localhost:8080/"
        },
        "id": "-6GogvJAckSS",
        "outputId": "3485f75c-97bf-491e-fc27-957c2db1042f"
>>>>>>> Stashed changes
      },
      "execution_count": 24,
      "outputs": [
        {
          "output_type": "execute_result",
          "data": {
            "text/plain": [
              "(0.7403475582473816, 0.7196273774097555, 0.7223662318201954, None)"
            ]
          },
          "metadata": {},
          "execution_count": 24
        }
      ]
    },
    {
      "cell_type": "code",
      "source": [
        "from sklearn.metrics import classification_report\n",
        "\n",
        "print(classification_report(y_true, y_pred, target_names=classes))"
      ],
      "metadata": {
        "colab": {
          "base_uri": "https://localhost:8080/"
        },
        "id": "AygkkaEwP7TD",
        "outputId": "2b07e942-59ef-4f61-939c-f0c23425385b"
      },
      "execution_count": 27,
      "outputs": [
        {
          "output_type": "stream",
          "name": "stdout",
          "text": [
            "              precision    recall  f1-score   support\n",
            "\n",
            "           a       0.63      0.87      0.73      1344\n",
            "           b       0.71      0.69      0.70       428\n",
            "           c       0.73      0.64      0.68       705\n",
            "           d       0.57      0.69      0.62       481\n",
            "           e       0.80      0.62      0.70      1652\n",
            "           f       0.54      0.66      0.59       307\n",
            "           g       0.80      0.69      0.74       824\n",
            "           h       0.59      0.64      0.61       287\n",
            "           i       0.89      0.80      0.84      1638\n",
            "           j       0.28      0.48      0.35        63\n",
            "\n",
            "    accuracy                           0.72      7729\n",
            "   macro avg       0.65      0.68      0.66      7729\n",
            "weighted avg       0.74      0.72      0.72      7729\n",
            "\n"
          ]
        }
      ]
    }
  ]
}